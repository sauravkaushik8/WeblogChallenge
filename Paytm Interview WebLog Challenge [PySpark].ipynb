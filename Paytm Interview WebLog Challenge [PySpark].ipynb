{
 "cells": [
  {
   "cell_type": "markdown",
   "metadata": {},
   "source": [
    "# Paytm Interview WebLog Challenge [PySpark] | Submitted by Saurav Kaushik"
   ]
  },
  {
   "cell_type": "markdown",
   "metadata": {},
   "source": [
    "## Importing required libraries"
   ]
  },
  {
   "cell_type": "code",
   "execution_count": 1,
   "metadata": {
    "collapsed": true
   },
   "outputs": [],
   "source": [
    "import os\n",
    "from datetime import datetime\n",
    "from pyspark.mllib.regression import LabeledPoint, LinearRegressionWithSGD\n",
    "from pyspark.mllib.tree import DecisionTree\n",
    "from pyspark import SparkContext\n"
   ]
  },
  {
   "cell_type": "markdown",
   "metadata": {},
   "source": [
    "## Initialization"
   ]
  },
  {
   "cell_type": "code",
   "execution_count": 2,
   "metadata": {
    "collapsed": true
   },
   "outputs": [],
   "source": [
    "os.environ[\"SPARK_HOME\"] = \"C:\\opt\\spark\\spark-2.1.1-bin-hadoop2.7\"\n"
   ]
  },
  {
   "cell_type": "code",
   "execution_count": 3,
   "metadata": {
    "collapsed": false
   },
   "outputs": [
    {
     "data": {
      "text/plain": [
       "<pyspark.context.SparkContext at 0x1fd717bdf98>"
      ]
     },
     "execution_count": 3,
     "metadata": {},
     "output_type": "execute_result"
    }
   ],
   "source": [
    "sc"
   ]
  },
  {
   "cell_type": "markdown",
   "metadata": {},
   "source": [
    "## Reading the challange data"
   ]
  },
  {
   "cell_type": "code",
   "execution_count": 4,
   "metadata": {
    "collapsed": false
   },
   "outputs": [],
   "source": [
    "data = sc.textFile(\"C:/Users/dell/Desktop/2015_07_22_mktplace_shop_web_log_sample.log\", 1)\n"
   ]
  },
  {
   "cell_type": "code",
   "execution_count": 5,
   "metadata": {
    "collapsed": false,
    "scrolled": true
   },
   "outputs": [
    {
     "data": {
      "text/plain": [
       "['2015-07-22T09:00:28.019143Z marketpalce-shop 123.242.248.130:54635 10.0.6.158:80 0.000022 0.026109 0.00002 200 200 0 699 \"GET https://paytm.com:443/shop/authresponse?code=f2405b05-e2ee-4b0d-8f6a-9fed0fcfe2e0&state=null HTTP/1.1\" \"Mozilla/5.0 (Windows NT 6.1; WOW64) AppleWebKit/537.36 (KHTML, like Gecko) Chrome/43.0.2357.130 Safari/537.36\" ECDHE-RSA-AES128-GCM-SHA256 TLSv1.2',\n",
       " '2015-07-22T09:00:27.894580Z marketpalce-shop 203.91.211.44:51402 10.0.4.150:80 0.000024 0.15334 0.000026 200 200 0 1497 \"GET https://paytm.com:443/shop/wallet/txnhistory?page_size=10&page_number=0&channel=web&version=2 HTTP/1.1\" \"Mozilla/5.0 (Windows NT 6.1; rv:39.0) Gecko/20100101 Firefox/39.0\" ECDHE-RSA-AES128-GCM-SHA256 TLSv1.2',\n",
       " '2015-07-22T09:00:27.885745Z marketpalce-shop 1.39.32.179:56419 10.0.4.244:80 0.000024 0.164958 0.000017 200 200 0 157 \"GET https://paytm.com:443/shop/wallet/txnhistory?page_size=10&page_number=0&channel=web&version=2 HTTP/1.1\" \"Mozilla/5.0 (Windows NT 6.1) AppleWebKit/537.36 (KHTML, like Gecko) Chrome/43.0.2357.134 Safari/537.36\" ECDHE-RSA-AES128-GCM-SHA256 TLSv1.2',\n",
       " '2015-07-22T09:00:28.048369Z marketpalce-shop 180.179.213.94:48725 10.0.6.108:80 0.00002 0.002333 0.000021 200 200 0 35734 \"GET https://paytm.com:443/shop/p/micromax-yu-yureka-moonstone-grey-MOBMICROMAX-YU-DUMM141CD60AF7C_34315 HTTP/1.0\" \"-\" ECDHE-RSA-AES128-GCM-SHA256 TLSv1.2',\n",
       " '2015-07-22T09:00:28.036251Z marketpalce-shop 120.59.192.208:13527 10.0.4.217:80 0.000024 0.015091 0.000016 200 200 68 640 \"POST https://paytm.com:443/papi/v1/expresscart/verify HTTP/1.1\" \"Mozilla/5.0 (Windows NT 6.1; WOW64) AppleWebKit/537.36 (KHTML, like Gecko) Chrome/44.0.2403.89 Safari/537.36\" ECDHE-RSA-AES128-GCM-SHA256 TLSv1.2']"
      ]
     },
     "execution_count": 5,
     "metadata": {},
     "output_type": "execute_result"
    }
   ],
   "source": [
    "data.take(5)"
   ]
  },
  {
   "cell_type": "markdown",
   "metadata": {},
   "source": [
    "# 1. Problem Statements | Processing & Analytical goals:\n"
   ]
  },
  {
   "cell_type": "markdown",
   "metadata": {},
   "source": [
    "\n",
    "## 1.A Sessionize the web log by IP. Sessionize = aggregrate all page hits by visitor/IP during a fixed time window. https://en.wikipedia.org/wiki/Session (web_analytics)  \n"
   ]
  },
  {
   "cell_type": "markdown",
   "metadata": {},
   "source": [
    "### Modifying the data and taking the difference of time stamp from 2010-1-1\n"
   ]
  },
  {
   "cell_type": "code",
   "execution_count": 6,
   "metadata": {
    "collapsed": true
   },
   "outputs": [],
   "source": [
    "def ts(tp):\n",
    "    return (datetime.strptime(tp, '%Y-%m-%dT%H:%M:%S.%fZ') - datetime(2010, 1, 1)).total_seconds()\n",
    "\n",
    "\n",
    "def splitting(x):\n",
    "    fields = x.split()\n",
    "    return ((fields[2], ts(fields[0])), (fields[1], fields[3], fields[12]))\n"
   ]
  },
  {
   "cell_type": "code",
   "execution_count": 7,
   "metadata": {
    "collapsed": false
   },
   "outputs": [],
   "source": [
    "rdd_sess1 = data.map(splitting) \\\n",
    "    .sortByKey().map(lambda x: (x[0][0], (x[0][1], x[1]))) \\\n",
    "    .groupByKey() \n"
   ]
  },
  {
   "cell_type": "code",
   "execution_count": 8,
   "metadata": {
    "collapsed": false
   },
   "outputs": [
    {
     "data": {
      "text/plain": [
       "[('1.186.112.52:51563',\n",
       "  <pyspark.resultiterable.ResultIterable at 0x1fd7335b7b8>),\n",
       " ('1.186.146.103:50987',\n",
       "  <pyspark.resultiterable.ResultIterable at 0x1fd7335b828>),\n",
       " ('1.186.180.154:50330',\n",
       "  <pyspark.resultiterable.ResultIterable at 0x1fd7335b8d0>),\n",
       " ('1.186.247.60:51646',\n",
       "  <pyspark.resultiterable.ResultIterable at 0x1fd7335b7f0>),\n",
       " ('1.186.28.220:38900',\n",
       "  <pyspark.resultiterable.ResultIterable at 0x1fd7335b940>)]"
      ]
     },
     "execution_count": 8,
     "metadata": {},
     "output_type": "execute_result"
    }
   ],
   "source": [
    "rdd_sess1.take(5)"
   ]
  },
  {
   "cell_type": "markdown",
   "metadata": {},
   "source": [
    "### Let's use the fixed time window of 30 minutes which is also the mot popular standard for defing a standard. Defining the logic for the same.\n"
   ]
  },
  {
   "cell_type": "code",
   "execution_count": 9,
   "metadata": {
    "collapsed": true
   },
   "outputs": [],
   "source": [
    "\n",
    "\n",
    "def sessionize(data):\n",
    "    prev = None\n",
    "    start = 0\n",
    "    output = []\n",
    "    session_out = set()\n",
    "    user_ip, l = data\n",
    "    size = len(l) - 1\n",
    "    for c, (timestamp, metadata) in enumerate(l):\n",
    "        if not prev:\n",
    "            prev = timestamp\n",
    "            start = timestamp\n",
    "        if timestamp - prev <= 900:\n",
    "            session_out.add(metadata)\n",
    "        else:\n",
    "            delta = prev - start\n",
    "            start = timestamp\n",
    "            output.append((delta, len(session_out)))\n",
    "            session_out = set([metadata])\n",
    "        if c == size:\n",
    "            delta = timestamp - start\n",
    "            session_out.add(metadata)\n",
    "            output.append((delta, len(session_out)))\n",
    "        prev = timestamp\n",
    "\n",
    "    return (user_ip, output)\n",
    "\n"
   ]
  },
  {
   "cell_type": "code",
   "execution_count": 10,
   "metadata": {
    "collapsed": false
   },
   "outputs": [],
   "source": [
    "rdd_sess2 = rdd_sess1.map(sessionize)"
   ]
  },
  {
   "cell_type": "code",
   "execution_count": 11,
   "metadata": {
    "collapsed": false
   },
   "outputs": [
    {
     "data": {
      "text/plain": [
       "[('1.186.112.52:51563', [(0.0, 1)]),\n",
       " ('1.186.146.103:50987', [(11.268976002931595, 2)]),\n",
       " ('1.186.180.154:50330', [(7.198314994573593, 3)]),\n",
       " ('1.186.247.60:51646', [(9.972968995571136, 3)]),\n",
       " ('1.186.28.220:38900', [(3.1270779967308044, 3)]),\n",
       " ('1.186.28.220:45747', [(0.0, 1)]),\n",
       " ('1.186.28.220:51962', [(0.0, 1)]),\n",
       " ('1.186.32.38:58337', [(0.0, 1)]),\n",
       " ('1.186.32.78:65243', [(0.0, 1)]),\n",
       " ('1.186.33.25:52486', [(0.0, 1)])]"
      ]
     },
     "execution_count": 11,
     "metadata": {},
     "output_type": "execute_result"
    }
   ],
   "source": [
    "rdd_sess2.take(10)"
   ]
  },
  {
   "cell_type": "markdown",
   "metadata": {},
   "source": [
    "## 1.B Determine the average session time"
   ]
  },
  {
   "cell_type": "code",
   "execution_count": 12,
   "metadata": {
    "collapsed": true
   },
   "outputs": [],
   "source": [
    "\n",
    "def avg_sess(kv):\n",
    "    key, val = kv\n",
    "    return (key, sum([v[0] for v in val]) / len(val))"
   ]
  },
  {
   "cell_type": "code",
   "execution_count": 13,
   "metadata": {
    "collapsed": true
   },
   "outputs": [],
   "source": [
    "avg_sess_time = rdd_sess2.map(avg_sess)"
   ]
  },
  {
   "cell_type": "code",
   "execution_count": 14,
   "metadata": {
    "collapsed": false
   },
   "outputs": [
    {
     "data": {
      "text/plain": [
       "[('1.186.112.52:51563', 0.0),\n",
       " ('1.186.146.103:50987', 11.268976002931595),\n",
       " ('1.186.180.154:50330', 7.198314994573593),\n",
       " ('1.186.247.60:51646', 9.972968995571136),\n",
       " ('1.186.28.220:38900', 3.1270779967308044),\n",
       " ('1.186.28.220:45747', 0.0),\n",
       " ('1.186.28.220:51962', 0.0),\n",
       " ('1.186.32.38:58337', 0.0),\n",
       " ('1.186.32.78:65243', 0.0),\n",
       " ('1.186.33.25:52486', 0.0)]"
      ]
     },
     "execution_count": 14,
     "metadata": {},
     "output_type": "execute_result"
    }
   ],
   "source": [
    "avg_sess_time.take(10)"
   ]
  },
  {
   "cell_type": "markdown",
   "metadata": {},
   "source": [
    "# 2. Problem Statements | Additional questions for Machine Learning Engineer (MLE) candidates:\n",
    "\n"
   ]
  },
  {
   "cell_type": "markdown",
   "metadata": {},
   "source": [
    "## 2.2 Predict the session length for a given IP\n",
    "\n"
   ]
  },
  {
   "cell_type": "markdown",
   "metadata": {},
   "source": [
    "## Using 2 lag regression for training machine learning model."
   ]
  },
  {
   "cell_type": "code",
   "execution_count": 15,
   "metadata": {
    "collapsed": true
   },
   "outputs": [],
   "source": [
    "\n",
    "\n",
    "def avg_time_and_num_sess(data):\n",
    "    user_ip, l = data\n",
    "    return l\n",
    "\n",
    "def ips(data):\n",
    "    user_ip, l = data\n",
    "    return user_ip\n"
   ]
  },
  {
   "cell_type": "code",
   "execution_count": 16,
   "metadata": {
    "collapsed": true
   },
   "outputs": [],
   "source": [
    "avg_time_and_num_sess_rdd = rdd_sess2.flatMap(avg_time_and_num_sess)\n",
    "\n",
    "ips_rdd = rdd_sess2.map(ips)"
   ]
  },
  {
   "cell_type": "code",
   "execution_count": 17,
   "metadata": {
    "collapsed": false
   },
   "outputs": [
    {
     "data": {
      "text/plain": [
       "['1.186.112.52:51563',\n",
       " '1.186.146.103:50987',\n",
       " '1.186.180.154:50330',\n",
       " '1.186.247.60:51646',\n",
       " '1.186.28.220:38900']"
      ]
     },
     "execution_count": 17,
     "metadata": {},
     "output_type": "execute_result"
    }
   ],
   "source": [
    "ips_rdd.take(5)"
   ]
  },
  {
   "cell_type": "code",
   "execution_count": 18,
   "metadata": {
    "collapsed": false
   },
   "outputs": [
    {
     "data": {
      "text/plain": [
       "[(0.0, 1),\n",
       " (11.268976002931595, 2),\n",
       " (7.198314994573593, 3),\n",
       " (9.972968995571136, 3),\n",
       " (3.1270779967308044, 3)]"
      ]
     },
     "execution_count": 18,
     "metadata": {},
     "output_type": "execute_result"
    }
   ],
   "source": [
    "avg_time_and_num_sess_rdd.take(5)"
   ]
  },
  {
   "cell_type": "markdown",
   "metadata": {},
   "source": [
    "## Creating a sparse matrix for data:"
   ]
  },
  {
   "cell_type": "code",
   "execution_count": 19,
   "metadata": {
    "collapsed": false
   },
   "outputs": [],
   "source": [
    "\n",
    "\n",
    "def data_prep(data):\n",
    "    user_ip, l = data\n",
    "    if len(l) < 3: return\n",
    "    for i in range(0, len(l) - 2):\n",
    "        yield LabeledPoint(l[i + 2][1], [l[i][1], l[i + 1][1]])\n",
    "\n",
    "\n"
   ]
  },
  {
   "cell_type": "code",
   "execution_count": 20,
   "metadata": {
    "collapsed": false
   },
   "outputs": [],
   "source": [
    "data = rdd_sess2.flatMap(data_prep)\n"
   ]
  },
  {
   "cell_type": "markdown",
   "metadata": {},
   "source": [
    "## Creating training and validation sets: 75% and 25%"
   ]
  },
  {
   "cell_type": "code",
   "execution_count": 21,
   "metadata": {
    "collapsed": true
   },
   "outputs": [],
   "source": [
    "(train, val) = data.randomSplit([0.75, 0.25],seed=0)\n"
   ]
  },
  {
   "cell_type": "markdown",
   "metadata": {},
   "source": [
    "## Not able to find a fesible way to plot in PySpark without using pandas. So, I'll be sticking to tree based models based on my understanding from the python version of the solution."
   ]
  },
  {
   "cell_type": "markdown",
   "metadata": {},
   "source": [
    "## Training the decesion tree model."
   ]
  },
  {
   "cell_type": "code",
   "execution_count": 22,
   "metadata": {
    "collapsed": false
   },
   "outputs": [],
   "source": [
    "\n",
    "model = DecisionTree.trainRegressor(train, maxDepth=4,\n",
    "                                 categoricalFeaturesInfo={},\n",
    "                                 impurity='variance', maxBins=32)\n",
    "\n"
   ]
  },
  {
   "cell_type": "markdown",
   "metadata": {},
   "source": [
    "## Visualizing the model: Let's see what we have got"
   ]
  },
  {
   "cell_type": "code",
   "execution_count": 23,
   "metadata": {
    "collapsed": false
   },
   "outputs": [
    {
     "name": "stdout",
     "output_type": "stream",
     "text": [
      "DecisionTreeModel regressor of depth 4 with 11 nodes\n",
      "  If (feature 0 <= 21.0)\n",
      "   If (feature 1 <= 6.0)\n",
      "    If (feature 0 <= 3.0)\n",
      "     If (feature 1 <= 1.0)\n",
      "      Predict: 1.0324590163934426\n",
      "     Else (feature 1 > 1.0)\n",
      "      Predict: 1.0138888888888888\n",
      "    Else (feature 0 > 3.0)\n",
      "     Predict: 4.0\n",
      "   Else (feature 1 > 6.0)\n",
      "    If (feature 0 <= 12.0)\n",
      "     Predict: 12.0\n",
      "    Else (feature 0 > 12.0)\n",
      "     Predict: 10.0\n",
      "  Else (feature 0 > 21.0)\n",
      "   Predict: 83.0\n",
      "\n"
     ]
    }
   ],
   "source": [
    "\n",
    "print(model.toDebugString())\n"
   ]
  },
  {
   "cell_type": "markdown",
   "metadata": {},
   "source": [
    "## Predicting for the validation set"
   ]
  },
  {
   "cell_type": "code",
   "execution_count": 24,
   "metadata": {
    "collapsed": true
   },
   "outputs": [],
   "source": [
    "\n",
    "predictions = model.predict(val.map(lambda x: x.features))\n",
    "labelsAndPredictions = val.map(lambda lp: lp.label).zip(predictions)\n"
   ]
  },
  {
   "cell_type": "markdown",
   "metadata": {},
   "source": [
    "## Calculating the Mean Square Error on the validation set "
   ]
  },
  {
   "cell_type": "code",
   "execution_count": 25,
   "metadata": {
    "collapsed": false
   },
   "outputs": [
    {
     "name": "stdout",
     "output_type": "stream",
     "text": [
      "Mean Squared Error = 0.19777190149926108\n"
     ]
    }
   ],
   "source": [
    "MSE = labelsAndPredictions.map(lambda kv: (kv[0] - kv[1])**2).reduce(lambda x, y: x + y) / labelsAndPredictions.count()\n",
    "print(\"Mean Squared Error = \" + str(MSE))\n"
   ]
  },
  {
   "cell_type": "markdown",
   "metadata": {},
   "source": [
    "# Thank You!"
   ]
  }
 ],
 "metadata": {
  "kernelspec": {
   "display_name": "Python 3",
   "language": "python",
   "name": "python3"
  },
  "language_info": {
   "codemirror_mode": {
    "name": "ipython",
    "version": 3
   },
   "file_extension": ".py",
   "mimetype": "text/x-python",
   "name": "python",
   "nbconvert_exporter": "python",
   "pygments_lexer": "ipython3",
   "version": "3.6.0"
  }
 },
 "nbformat": 4,
 "nbformat_minor": 2
}
